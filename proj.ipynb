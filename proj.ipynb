{
 "cells": [
  {
   "cell_type": "code",
   "execution_count": 54,
   "metadata": {},
   "outputs": [],
   "source": [
    "import pandas as pd\n",
    "import json"
   ]
  },
  {
   "cell_type": "code",
   "execution_count": 1,
   "metadata": {},
   "outputs": [
    {
     "data": {
      "application/javascript": "\n        if (window._pyforest_update_imports_cell) { window._pyforest_update_imports_cell('import pandas as pd'); }\n    ",
      "text/plain": [
       "<IPython.core.display.Javascript object>"
      ]
     },
     "metadata": {},
     "output_type": "display_data"
    }
   ],
   "source": [
    "df = pd.read_excel(\"test_data.xlsx\")"
   ]
  },
  {
   "cell_type": "code",
   "execution_count": 3,
   "metadata": {},
   "outputs": [
    {
     "data": {
      "text/html": [
       "<div>\n",
       "<style scoped>\n",
       "    .dataframe tbody tr th:only-of-type {\n",
       "        vertical-align: middle;\n",
       "    }\n",
       "\n",
       "    .dataframe tbody tr th {\n",
       "        vertical-align: top;\n",
       "    }\n",
       "\n",
       "    .dataframe thead th {\n",
       "        text-align: right;\n",
       "    }\n",
       "</style>\n",
       "<table border=\"1\" class=\"dataframe\">\n",
       "  <thead>\n",
       "    <tr style=\"text-align: right;\">\n",
       "      <th></th>\n",
       "      <th>Summary</th>\n",
       "    </tr>\n",
       "  </thead>\n",
       "  <tbody>\n",
       "    <tr>\n",
       "      <th>0</th>\n",
       "      <td>Adobe Password needs reset</td>\n",
       "    </tr>\n",
       "    <tr>\n",
       "      <th>1</th>\n",
       "      <td>Password needs reset for SAP</td>\n",
       "    </tr>\n",
       "    <tr>\n",
       "      <th>2</th>\n",
       "      <td>VCN account unlock</td>\n",
       "    </tr>\n",
       "    <tr>\n",
       "      <th>3</th>\n",
       "      <td>Impact order</td>\n",
       "    </tr>\n",
       "    <tr>\n",
       "      <th>4</th>\n",
       "      <td>User facing an issue with teams</td>\n",
       "    </tr>\n",
       "  </tbody>\n",
       "</table>\n",
       "</div>"
      ],
      "text/plain": [
       "                           Summary\n",
       "0       Adobe Password needs reset\n",
       "1     Password needs reset for SAP\n",
       "2               VCN account unlock\n",
       "3                     Impact order\n",
       "4  User facing an issue with teams"
      ]
     },
     "execution_count": 3,
     "metadata": {},
     "output_type": "execute_result"
    }
   ],
   "source": [
    "df"
   ]
  },
  {
   "cell_type": "code",
   "execution_count": 76,
   "metadata": {},
   "outputs": [
    {
     "name": "stdout",
     "output_type": "stream",
     "text": [
      "        key           issue     ci                          Summary\n",
      "0  Password           reset  Adobe       Adobe Password needs reset\n",
      "1  Password           reset    SAP     Password needs reset for SAP\n",
      "2   account                    VCN               VCN account unlock\n",
      "3            Anonymous data                            Impact order\n",
      "4      User                  teams  User facing an issue with teams\n",
      "5   account          locked    VCN               VCN account locked\n"
     ]
    }
   ],
   "source": [
    "\n",
    "# classification = {\n",
    "#     \"key\": [\"account\", \"user\", \"system\", \"application\",'password'],\n",
    "#     \"issue\": [\"locked\", \"unlocked\", \"reset\", \"connection\", \"access\",\"reset\"],\n",
    "#     \"ci\": [\"vcn\",'sap','adobe','teams']\n",
    "# }\n",
    "filename = 'data.json'\n",
    "with open(filename, \"r\") as f:\n",
    "    classification = json.load(f)\n",
    "# Create empty lists for each column\n",
    "key_list = []\n",
    "issue_list = []\n",
    "ci_list = []\n",
    "\n",
    "# Loop through each row in the dataframe\n",
    "for index, row in df.iterrows():\n",
    "    # Split the string into a list of words\n",
    "    words = row['Summary'].split()\n",
    "    # Initialize variables for key, issue, and ci\n",
    "    key = ''\n",
    "    issue = ''\n",
    "    ci = ''\n",
    "    # Loop through each word in the list\n",
    "    for word in words:\n",
    "        # Check if the word is in 'key' and assign it to the key variable\n",
    "        if word.lower() in classification[\"key\"]:\n",
    "            key = word\n",
    "        # Check if the word is in 'issue' and assign to the issue variable\n",
    "        elif word.lower() in  classification[\"issue\"]:\n",
    "            issue = word\n",
    "        # Check if the word is 'ci' and assign to the ci variable\n",
    "        elif word.lower()in classification[\"ci\"]:\n",
    "            ci = word\n",
    "        if key == '' and issue==\"\" and ci== \"\":\n",
    "            issue = \"Anonymous data\"\n",
    "    # Append the values to the corresponding lists\n",
    "    key_list.append(key)\n",
    "    issue_list.append(issue)\n",
    "    ci_list.append(ci)\n",
    "\n",
    "# Create the final dataframe with the three columns\n",
    "final_df = pd.DataFrame({'key': key_list, 'issue': issue_list, 'ci': ci_list})\n",
    "final_df['Summary']=df['Summary'] \n",
    "\n",
    "\n",
    "\n",
    "# Print the final dataframe\n",
    "print(final_df)"
   ]
  }
 ],
 "metadata": {
  "kernelspec": {
   "display_name": "base",
   "language": "python",
   "name": "python3"
  },
  "language_info": {
   "codemirror_mode": {
    "name": "ipython",
    "version": 3
   },
   "file_extension": ".py",
   "mimetype": "text/x-python",
   "name": "python",
   "nbconvert_exporter": "python",
   "pygments_lexer": "ipython3",
   "version": "3.9.12"
  },
  "orig_nbformat": 4
 },
 "nbformat": 4,
 "nbformat_minor": 2
}
